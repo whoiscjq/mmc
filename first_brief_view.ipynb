{
 "cells": [
  {
   "cell_type": "code",
   "execution_count": 35,
   "metadata": {},
   "outputs": [],
   "source": [
    "import pandas as pd\n",
    "import numpy as np\n",
    "import matplotlib as mpl\n",
    "import matplotlib.pyplot as plt\n",
    "mpl.rcParams['font.family'] = ['Heiti TC']"
   ]
  },
  {
   "cell_type": "code",
   "execution_count": 3,
   "metadata": {},
   "outputs": [],
   "source": [
    "ap01 = pd.read_excel(\"ap01.xlsx\")\n"
   ]
  },
  {
   "cell_type": "code",
   "execution_count": 4,
   "metadata": {},
   "outputs": [],
   "source": [
    "ap02 = pd.read_excel(\"ap02.xlsx\")\n",
    "#1m22.1s to read.\n",
    "# ['销售日期', '扫码销售时间', '单品编码', '销量(千克)', '销售单价(元/千克)', '销售类型', '是否打折销售']"
   ]
  },
  {
   "cell_type": "code",
   "execution_count": 51,
   "metadata": {},
   "outputs": [],
   "source": [
    "danpin_bianma_list = ap01[\"单品编码\"].tolist()\n",
    "uid_to_name = pd.Series(ap01[\"单品名称\"].values, index=ap01[\"单品编码\"]).to_dict()\n",
    "name_to_uid = {v: k for k, v in uid_to_name.items()}"
   ]
  },
  {
   "cell_type": "code",
   "execution_count": 11,
   "metadata": {},
   "outputs": [
    {
     "data": {
      "text/html": [
       "<div>\n",
       "<style scoped>\n",
       "    .dataframe tbody tr th:only-of-type {\n",
       "        vertical-align: middle;\n",
       "    }\n",
       "\n",
       "    .dataframe tbody tr th {\n",
       "        vertical-align: top;\n",
       "    }\n",
       "\n",
       "    .dataframe thead th {\n",
       "        text-align: right;\n",
       "    }\n",
       "</style>\n",
       "<table border=\"1\" class=\"dataframe\">\n",
       "  <thead>\n",
       "    <tr style=\"text-align: right;\">\n",
       "      <th></th>\n",
       "      <th>销售日期</th>\n",
       "      <th>扫码销售时间</th>\n",
       "      <th>单品编码</th>\n",
       "      <th>销量(千克)</th>\n",
       "      <th>销售单价(元/千克)</th>\n",
       "      <th>销售类型</th>\n",
       "      <th>是否打折销售</th>\n",
       "    </tr>\n",
       "  </thead>\n",
       "  <tbody>\n",
       "    <tr>\n",
       "      <th>128159</th>\n",
       "      <td>2020-10-30</td>\n",
       "      <td>10:02:13.748</td>\n",
       "      <td>102900005115168</td>\n",
       "      <td>0.743</td>\n",
       "      <td>5.0</td>\n",
       "      <td>销售</td>\n",
       "      <td>否</td>\n",
       "    </tr>\n",
       "    <tr>\n",
       "      <th>128248</th>\n",
       "      <td>2020-10-30</td>\n",
       "      <td>10:48:42.707</td>\n",
       "      <td>102900005115168</td>\n",
       "      <td>0.502</td>\n",
       "      <td>5.0</td>\n",
       "      <td>销售</td>\n",
       "      <td>否</td>\n",
       "    </tr>\n",
       "    <tr>\n",
       "      <th>128272</th>\n",
       "      <td>2020-10-30</td>\n",
       "      <td>11:10:13.023</td>\n",
       "      <td>102900005115168</td>\n",
       "      <td>0.301</td>\n",
       "      <td>5.0</td>\n",
       "      <td>销售</td>\n",
       "      <td>否</td>\n",
       "    </tr>\n",
       "    <tr>\n",
       "      <th>128342</th>\n",
       "      <td>2020-10-30</td>\n",
       "      <td>12:34:32.084</td>\n",
       "      <td>102900005115168</td>\n",
       "      <td>0.382</td>\n",
       "      <td>5.0</td>\n",
       "      <td>销售</td>\n",
       "      <td>否</td>\n",
       "    </tr>\n",
       "    <tr>\n",
       "      <th>128376</th>\n",
       "      <td>2020-10-30</td>\n",
       "      <td>13:33:59.748</td>\n",
       "      <td>102900005115168</td>\n",
       "      <td>0.261</td>\n",
       "      <td>5.0</td>\n",
       "      <td>销售</td>\n",
       "      <td>否</td>\n",
       "    </tr>\n",
       "    <tr>\n",
       "      <th>...</th>\n",
       "      <td>...</td>\n",
       "      <td>...</td>\n",
       "      <td>...</td>\n",
       "      <td>...</td>\n",
       "      <td>...</td>\n",
       "      <td>...</td>\n",
       "      <td>...</td>\n",
       "    </tr>\n",
       "    <tr>\n",
       "      <th>859803</th>\n",
       "      <td>2023-05-30</td>\n",
       "      <td>11:38:51.277</td>\n",
       "      <td>102900005115168</td>\n",
       "      <td>0.270</td>\n",
       "      <td>3.0</td>\n",
       "      <td>销售</td>\n",
       "      <td>否</td>\n",
       "    </tr>\n",
       "    <tr>\n",
       "      <th>859823</th>\n",
       "      <td>2023-05-30</td>\n",
       "      <td>12:20:26.916</td>\n",
       "      <td>102900005115168</td>\n",
       "      <td>0.405</td>\n",
       "      <td>3.0</td>\n",
       "      <td>销售</td>\n",
       "      <td>否</td>\n",
       "    </tr>\n",
       "    <tr>\n",
       "      <th>859863</th>\n",
       "      <td>2023-05-30</td>\n",
       "      <td>14:23:49.201</td>\n",
       "      <td>102900005115168</td>\n",
       "      <td>0.135</td>\n",
       "      <td>3.0</td>\n",
       "      <td>销售</td>\n",
       "      <td>否</td>\n",
       "    </tr>\n",
       "    <tr>\n",
       "      <th>859911</th>\n",
       "      <td>2023-05-30</td>\n",
       "      <td>15:52:00.17</td>\n",
       "      <td>102900005115168</td>\n",
       "      <td>0.203</td>\n",
       "      <td>3.0</td>\n",
       "      <td>销售</td>\n",
       "      <td>否</td>\n",
       "    </tr>\n",
       "    <tr>\n",
       "      <th>860091</th>\n",
       "      <td>2023-05-30</td>\n",
       "      <td>18:50:53.148</td>\n",
       "      <td>102900005115168</td>\n",
       "      <td>0.372</td>\n",
       "      <td>3.0</td>\n",
       "      <td>销售</td>\n",
       "      <td>否</td>\n",
       "    </tr>\n",
       "  </tbody>\n",
       "</table>\n",
       "<p>2087 rows × 7 columns</p>\n",
       "</div>"
      ],
      "text/plain": [
       "             销售日期        扫码销售时间             单品编码  销量(千克)  销售单价(元/千克) 销售类型  \\\n",
       "128159 2020-10-30  10:02:13.748  102900005115168   0.743         5.0   销售   \n",
       "128248 2020-10-30  10:48:42.707  102900005115168   0.502         5.0   销售   \n",
       "128272 2020-10-30  11:10:13.023  102900005115168   0.301         5.0   销售   \n",
       "128342 2020-10-30  12:34:32.084  102900005115168   0.382         5.0   销售   \n",
       "128376 2020-10-30  13:33:59.748  102900005115168   0.261         5.0   销售   \n",
       "...           ...           ...              ...     ...         ...  ...   \n",
       "859803 2023-05-30  11:38:51.277  102900005115168   0.270         3.0   销售   \n",
       "859823 2023-05-30  12:20:26.916  102900005115168   0.405         3.0   销售   \n",
       "859863 2023-05-30  14:23:49.201  102900005115168   0.135         3.0   销售   \n",
       "859911 2023-05-30   15:52:00.17  102900005115168   0.203         3.0   销售   \n",
       "860091 2023-05-30  18:50:53.148  102900005115168   0.372         3.0   销售   \n",
       "\n",
       "       是否打折销售  \n",
       "128159      否  \n",
       "128248      否  \n",
       "128272      否  \n",
       "128342      否  \n",
       "128376      否  \n",
       "...       ...  \n",
       "859803      否  \n",
       "859823      否  \n",
       "859863      否  \n",
       "859911      否  \n",
       "860091      否  \n",
       "\n",
       "[2087 rows x 7 columns]"
      ]
     },
     "execution_count": 11,
     "metadata": {},
     "output_type": "execute_result"
    }
   ],
   "source": [
    "ap02[ap02[\"单品编码\"]==danpin_bianma_list[0]]"
   ]
  },
  {
   "cell_type": "code",
   "execution_count": 48,
   "metadata": {},
   "outputs": [
    {
     "data": {
      "text/plain": [
       "array([ 5533.748,  8322.707,  9613.023, ..., 21229.201, 26520.17 ,\n",
       "       37253.148])"
      ]
     },
     "execution_count": 48,
     "metadata": {},
     "output_type": "execute_result"
    }
   ],
   "source": [
    "pd.to_timedelta(ap02[ap02[\"单品编码\"]==danpin_bianma_list[0]][\"扫码销售时间\"]).dt.total_seconds().to_numpy() - 8.5*60*60"
   ]
  },
  {
   "cell_type": "code",
   "execution_count": 53,
   "metadata": {},
   "outputs": [
    {
     "data": {
      "image/png": "[encoded data removed]",
      "text/plain": [
       "<Figure size 432x288 with 1 Axes>"
      ]
     },
     "metadata": {
      "needs_background": "light"
     },
     "output_type": "display_data"
    },
    {
     "data": {
      "image/png": "[encoded data removed]",
      "text/plain": [
       "<Figure size 432x288 with 1 Axes>"
      ]
     },
     "metadata": {
      "needs_background": "light"
     },
     "output_type": "display_data"
    },
    {
     "data": {
      "image/png": "[encoded data removed]",
      "text/plain": [
       "<Figure size 432x288 with 1 Axes>"
      ]
     },
     "metadata": {
      "needs_background": "light"
     },
     "output_type": "display_data"
    },
    {
     "data": {
      "image/png": "[encoded data removed]",
      "text/plain": [
       "<Figure size 432x288 with 1 Axes>"
      ]
     },
     "metadata": {
      "needs_background": "light"
     },
     "output_type": "display_data"
    }
   ],
   "source": [
    "for i, dpbm in enumerate(danpin_bianma_list):\n",
    "    if i <= 5 or i >= 10: continue\n",
    "    plt.cla()\n",
    "    plt.title(uid_to_name[dpbm])\n",
    "    filtered_df = ap02[ap02[\"单品编码\"]==dpbm]\n",
    "    plt.hist(pd.to_timedelta(filtered_df[\"扫码销售时间\"]).dt.total_seconds().to_numpy()-9*3600, \n",
    "             weights=filtered_df[\"销量(千克)\"].to_numpy(),\n",
    "             bins=26)\n",
    "    plt.show()"
   ]
  },
  {
   "cell_type": "code",
   "execution_count": null,
   "metadata": {},
   "outputs": [],
   "source": []
  }
 ],
 "metadata": {
  "kernelspec": {
   "display_name": "base",
   "language": "python",
   "name": "python3"
  },
  "language_info": {
   "codemirror_mode": {
    "name": "ipython",
    "version": 3
   },
   "file_extension": ".py",
   "mimetype": "text/x-python",
   "name": "python",
   "nbconvert_exporter": "python",
   "pygments_lexer": "ipython3",
   "version": "3.9.12"
  },
  "orig_nbformat": 4
 },
 "nbformat": 4,
 "nbformat_minor": 2
}
